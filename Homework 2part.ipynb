{
 "cells": [
  {
   "cell_type": "markdown",
   "metadata": {},
   "source": [
    "## Homework 4/ Problem 2"
   ]
  },
  {
   "cell_type": "markdown",
   "metadata": {},
   "source": [
    "This program calculates trimmed mean with a sed of data of the percentage."
   ]
  },
  {
   "cell_type": "code",
   "execution_count": null,
   "metadata": {},
   "outputs": [],
   "source": [
    "a=int(input(\"How many data do you need\"))\n",
    "values=[]\n",
    "total=0\n",
    "for i in range(0,a):\n",
    "    x=int(input(f\"introduce the x{i+1}:\"))\n",
    "    values.append(x)\n",
    "values=sorted(values)\n",
    "print(\"The orden is\",values)\n",
    "b=int(input(\"What percentage do you want\"))\n",
    "y=(b/100)*a\n",
    "trim=values[int(y):-int(y)]\n",
    "print(\"Trimmed number is\",trim)\n",
    "print(\"trimmed mean is \",sum(trim)/len(trim))\n",
    "\n"
   ]
  },
  {
   "cell_type": "code",
   "execution_count": null,
   "metadata": {},
   "outputs": [],
   "source": []
  },
  {
   "cell_type": "code",
   "execution_count": null,
   "metadata": {},
   "outputs": [],
   "source": []
  }
 ],
 "metadata": {
  "kernelspec": {
   "display_name": "Python 3",
   "language": "python",
   "name": "python3"
  },
  "language_info": {
   "codemirror_mode": {
    "name": "ipython",
    "version": 3
   },
   "file_extension": ".py",
   "mimetype": "text/x-python",
   "name": "python",
   "nbconvert_exporter": "python",
   "pygments_lexer": "ipython3",
   "version": "3.7.4"
  }
 },
 "nbformat": 4,
 "nbformat_minor": 2
}
