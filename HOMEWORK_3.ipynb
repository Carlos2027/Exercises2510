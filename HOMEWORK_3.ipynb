{
 "cells": [
  {
   "cell_type": "markdown",
   "metadata": {},
   "source": [
    "## HOMEWORK 3\n"
   ]
  },
  {
   "cell_type": "markdown",
   "metadata": {},
   "source": [
    "What this program does is ask for the number of names to enter, to finally create a list and make the user choose one, in case that one of them was within the ranges, another opportunity will be given"
   ]
  },
  {
   "cell_type": "markdown",
   "metadata": {},
   "source": [
    "Here it is asked to enter the number of data you wish to save, then an empty variable is declared, where the data will be stored."
   ]
  },
  {
   "cell_type": "code",
   "execution_count": 1,
   "metadata": {},
   "outputs": [
    {
     "name": "stdout",
     "output_type": "stream",
     "text": [
      "How much names do you want introduce 3\n"
     ]
    }
   ],
   "source": [
    "b=int(input(\"How much names do you want introduce \"))\n",
    "name= []"
   ]
  },
  {
   "cell_type": "markdown",
   "metadata": {},
   "source": [
    "# for in\n",
    "It is used to repeat a task a certain number of times\n",
    "# append\n",
    "it is used to save the new variables in the empty variable"
   ]
  },
  {
   "cell_type": "code",
   "execution_count": null,
   "metadata": {},
   "outputs": [],
   "source": [
    "for i in range(0,b):\n",
    "    x=str(input(\"Introduce names:\"))\n",
    "    name.append(x)\n",
    "print(name)\n",
    "print(\"--------------------------------------------\")"
   ]
  },
  {
   "cell_type": "markdown",
   "metadata": {},
   "source": [
    "Here we use the if and else, something that we had already applied in past programs.\n",
    "In this case, the user must choose between 0 and the number that he entered at the beginning to choose a name from the list, if he chooses a number outside these ranges, he will be allowed to choose again"
   ]
  },
  {
   "cell_type": "code",
   "execution_count": null,
   "metadata": {},
   "outputs": [],
   "source": [
    "va=int(input(\"choose your favorite  \"))\n",
    "if va>=b or va<0 :\n",
    "    print(\"you chose a number outside the ranges or you wrote a word, you have another opportunity n\\n\")\n",
    "    va=int(input(\"choose your favorite  \"))\n",
    "    if va>=b or va<0 : \n",
    "         print(\"you dont have more opportunities :)\")\n",
    "        \n",
    "    else:\n",
    "        print(name[va])\n",
    "else:\n",
    "    print(name[va])"
   ]
  }
 ],
 "metadata": {
  "kernelspec": {
   "display_name": "Python 3",
   "language": "python",
   "name": "python3"
  },
  "language_info": {
   "codemirror_mode": {
    "name": "ipython",
    "version": 3
   },
   "file_extension": ".py",
   "mimetype": "text/x-python",
   "name": "python",
   "nbconvert_exporter": "python",
   "pygments_lexer": "ipython3",
   "version": "3.7.4"
  }
 },
 "nbformat": 4,
 "nbformat_minor": 2
}
