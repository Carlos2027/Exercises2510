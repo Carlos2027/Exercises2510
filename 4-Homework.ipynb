{
 "cells": [
  {
   "cell_type": "markdown",
   "metadata": {},
   "source": [
    "## Homework 4/ Program "
   ]
  },
  {
   "cell_type": "markdown",
   "metadata": {},
   "source": [
    "Program that calculate sample means, mode, and standard derivation based in set of data introduced by the user.\n"
   ]
  },
  {
   "cell_type": "code",
   "execution_count": 5,
   "metadata": {},
   "outputs": [
    {
     "name": "stdout",
     "output_type": "stream",
     "text": [
      "insert 1. To calculate the Sample mean\n",
      " insert 2. To calculate the moda\n",
      " insert 3. To calculate the standard desviation\n",
      "3\n"
     ]
    }
   ],
   "source": [
    "## print(\"choose what do you want to do\\n\\n\")\n",
    "a= int(input(\"insert 1. To calculate the Sample mean\\n insert 2. To calculate the moda\\n insert 3. To calculate the standard desviation\\n\"))\n",
    "totalx=0\n",
    "list_x=[]\n",
    "list_y=[]\n",
    "list_g=[]\n",
    "totaly=0 \n",
    "suma=0\n",
    "sd=0\n",
    "k=0\n",
    "repeticiones=0\n",
    "l=[]\n",
    "ca=[]"
   ]
  },
  {
   "cell_type": "markdown",
   "metadata": {},
   "source": [
    "If the input is 1, program will give you the sample means(sum of the inputs / number of imputs) based in set of data introduced. \n",
    "If the imput is not a number between (1-3), the output is \"you used a not valid value\"."
   ]
  },
  {
   "cell_type": "code",
   "execution_count": 6,
   "metadata": {},
   "outputs": [],
   "source": [
    "if a==1:\n",
    "    b= int(input(\"how many data do you need \"))\n",
    "    for i in range (0,b):\n",
    "        x= float(input(\"insert values :\"))\n",
    "        list_x.append(x)\n",
    "        totalx += x\n",
    "        totalxx=totalx/b\n",
    "    print(f\"the sample mean is {totalxx}\")"
   ]
  },
  {
   "cell_type": "markdown",
   "metadata": {},
   "source": [
    "If the input is 2, program will give you the moda(number more intorduce) based in set of data introduce.\n",
    "If the moda doesn´t exist the output is \"there is not moda\"\n",
    "If the imput is not a number between (1-3), the output is \"you used a not valid value\"."
   ]
  },
  {
   "cell_type": "code",
   "execution_count": 7,
   "metadata": {},
   "outputs": [
    {
     "name": "stdout",
     "output_type": "stream",
     "text": [
      "you used a not valid value\n"
     ]
    }
   ],
   "source": [
    "if a==2:\n",
    "    p=int(input(\"introduce number of data \"))\n",
    "    for i in range(0, p):\n",
    "        q=float(input(\"insert values: \"))\n",
    "        ca.append(q)\n",
    "        \n",
    "        for i in ca:\n",
    "            apariciones= ca.count(i)\n",
    "            if apariciones> repeticiones:\n",
    "                repeticiones= apariciones\n",
    "        modas=[]\n",
    "        for i in ca:\n",
    "            apariciones=ca.count(i)\n",
    "            if apariciones== repeticiones and i not in modas:\n",
    "                modas.append(i)\n",
    "    if len(modas) != len(ca):\n",
    "        print(f\"the moda is {modas}\")\n",
    "    else:  \n",
    "        print(\"there is not moda\")\n",
    "else:\n",
    "    print(\"you used a not valid value\")"
   ]
  },
  {
   "cell_type": "markdown",
   "metadata": {},
   "source": [
    "If the input is 3, program will give you the standard derivation based in set of data introduce.\n",
    "If the imput is not a number between (1-3), the output is \"you used a not valid value\".\n"
   ]
  },
  {
   "cell_type": "code",
   "execution_count": 8,
   "metadata": {},
   "outputs": [
    {
     "name": "stdout",
     "output_type": "stream",
     "text": [
      "how many data do you need 4\n",
      "insert values :1\n",
      "insert values :2\n",
      "insert values :3\n",
      "insert values :4\n",
      "the standard desviation is  1.2909944487358056\n"
     ]
    }
   ],
   "source": [
    "if a==3:\n",
    "    d= int(input(\"how many data do you need \"))\n",
    "    for i in range (0,d):\n",
    "        y= float(input(\"insert values :\"))\n",
    "        list_y.append(y)\n",
    "        totaly += y\n",
    "        totalyy= totaly/d\n",
    "        suma += (y-totalyy)\n",
    "        f=suma/(d-1)\n",
    "        sd = (f)**(1/2)\n",
    "        \n",
    "    print(f\"the standard desviation is  {sd}\")\n",
    "else:\n",
    "    print(\"you used a not valid value\")"
   ]
  },
  {
   "cell_type": "markdown",
   "metadata": {},
   "source": [
    "And the complete program is:"
   ]
  },
  {
   "cell_type": "code",
   "execution_count": null,
   "metadata": {},
   "outputs": [],
   "source": [
    "## print(\"choose what do you want to do\\n\\n\")\n",
    "a= int(input(\"insert 1. To calculate the Sample mean\\n insert 2. To calculate the moda\\n insert 3. To calculate the standard desviation\\n\"))\n",
    "totalx=0\n",
    "list_x=[]\n",
    "list_y=[]\n",
    "list_g=[]\n",
    "totaly=0 \n",
    "suma=0\n",
    "sd=0\n",
    "k=0\n",
    "repeticiones=0\n",
    "l=[]\n",
    "ca=[]\n",
    "if a==1:\n",
    "    b= int(input(\"how many dat do you need \"))\n",
    "    for i in range (0,b):\n",
    "        x= float(input(\"insert values :\"))\n",
    "        list_x.append(x)\n",
    "        totalx += x\n",
    "        totalxx=totalx/b\n",
    "    print(f\"the sample mean is {totalxx}\")\n",
    "elif a==3:\n",
    "    d= int(input(\"how many data do you need \"))\n",
    "    for i in range (0,d):\n",
    "        y= float(input(\"insert values :\"))\n",
    "        list_y.append(y)\n",
    "        totaly += y\n",
    "        totalyy= totaly/d\n",
    "        suma += (y-totalyy)\n",
    "        f=suma/(d-1)\n",
    "        sd = (f)**(1/2)\n",
    "        \n",
    "    print(f\"the standard desviation is  {sd}\")\n",
    "elif a==2:\n",
    "    p=int(input(\"introduce number of data \"))\n",
    "    for i in range(0, p):\n",
    "        q=float(input(\"insert values: \"))\n",
    "        ca.append(q)\n",
    "        \n",
    "        for i in ca:\n",
    "            apariciones= ca.count(i)\n",
    "            if apariciones> repeticiones:\n",
    "                repeticiones= apariciones\n",
    "        modas=[]\n",
    "        for i in ca:\n",
    "            apariciones=ca.count(i)\n",
    "            if apariciones== repeticiones and i not in modas:\n",
    "                modas.append(i)\n",
    "    if len(modas) != len(ca):\n",
    "        print(f\"the moda is {modas}\")\n",
    "    else:  \n",
    "        print(\"there is not moda\")\n",
    "else:\n",
    "    print(\"you used a not valid value\")"
   ]
  }
 ],
 "metadata": {
  "kernelspec": {
   "display_name": "Python 3",
   "language": "python",
   "name": "python3"
  },
  "language_info": {
   "codemirror_mode": {
    "name": "ipython",
    "version": 3
   },
   "file_extension": ".py",
   "mimetype": "text/x-python",
   "name": "python",
   "nbconvert_exporter": "python",
   "pygments_lexer": "ipython3",
   "version": "3.7.4"
  }
 },
 "nbformat": 4,
 "nbformat_minor": 2
}
