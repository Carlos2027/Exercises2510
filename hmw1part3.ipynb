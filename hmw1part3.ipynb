{
 "cells": [
  {
   "cell_type": "markdown",
   "metadata": {},
   "source": [
    "# Homework\n",
    "### Exercise 13 Parameters, Unpacking, Variables\n",
    "In this exercise we will cover one more input method you can use to pass variables to as cript(scriptbeing another name for your .py files). "
   ]
  },
  {
   "cell_type": "code",
   "execution_count": 1,
   "metadata": {},
   "outputs": [
    {
     "name": "stdout",
     "output_type": "stream",
     "text": [
      "Your first variable is: C:\\Users\\erick\\Anaconda3\\lib\\site-packages\\ipykernel_launcher.py\n",
      "Your second variable is: -f\n",
      "Your third variable is: C:\\Users\\erick\\AppData\\Roaming\\jupyter\\runtime\\kernel-dd601884-7cc0-4da8-8d95-ed14a12f7bde.json\n"
     ]
    }
   ],
   "source": [
    "from sys import argv  \n",
    "one, two, three = argv\n",
    " \n",
    "print(f\"Your first variable is:\", one) \n",
    "print(f\"Your second variable is:\", two) \n",
    "print(f\"Your third variable is:\", three)\n"
   ]
  },
  {
   "cell_type": "markdown",
   "metadata": {},
   "source": [
    "### Exercise 14 Prompting and Passing\n",
    "Program that uses argv and input together to ask the user something specific"
   ]
  },
  {
   "cell_type": "code",
   "execution_count": null,
   "metadata": {},
   "outputs": [
    {
     "name": "stdout",
     "output_type": "stream",
     "text": [
      "Hi -f, I'm the C:\\Users\\erick\\Anaconda3\\lib\\site-packages\\ipykernel_launcher.py script.\n",
      "I'd like to ask you a few questions.\n",
      "Do you like me -f?\n"
     ]
    }
   ],
   "source": [
    "from sys import argv\n",
    "\n",
    "script, user_name, looz= argv\n",
    "prompt = '> '\n",
    "\n",
    "print(f\"Hi {user_name}, I'm the {script} script.\")\n",
    "print(\"I'd like to ask you a few questions.\")\n",
    "print(f\"Do you like me {user_name}?\")\n",
    "likes = input(prompt)\n",
    "\n",
    "print(f\"What is your favorite food {user_name}?\")\n",
    "food = input(prompt)\n",
    "\n",
    "print(\"What is your favorite color?\")\n",
    "color = input(prompt)\n",
    "\n",
    "print(f\"\"\"Alright, so you said {likes} about liking me.\n",
    "Your favorite food is {food}.I like too.\n",
    "And your favorite color is {color}.I prefer the color gold.\n",
    "\"\"\")"
   ]
  },
  {
   "cell_type": "markdown",
   "metadata": {},
   "source": [
    "### Exercise 15 Reading Files\n",
    "This exercise involves writing two files. One is the usual ex15.py file that you will run, but the other is named ex15_sample.txt. This second file isn’t a script but a plain text file we’ll be reading in our script. Here are the contents of that file."
   ]
  },
  {
   "cell_type": "code",
   "execution_count": null,
   "metadata": {},
   "outputs": [],
   "source": [
    "from sys import argv\n",
    "\n",
    "script, filename ,hello= argv\n",
    "\n",
    "txt = open(filename)\n",
    "\n",
    "print(f\"Here's your file {filename}:\")  \n",
    "print(txt.read())\n",
    "\n",
    "print(\"Type the filename again:\")  \n",
    "file_again = input(\"> \")\n",
    "    \n",
    "txt_again = open(file_again)\n",
    "print(txt_again.read())"
   ]
  },
  {
   "cell_type": "markdown",
   "metadata": {},
   "source": [
    "### Exercise 16 Reading and Writing Files\n",
    "Program to use write that takes a parameter of a string you want to write to the file."
   ]
  },
  {
   "cell_type": "code",
   "execution_count": null,
   "metadata": {},
   "outputs": [],
   "source": [
    "from sys import argv\n",
    "\n",
    "script, filename,heelo = argv\n",
    "\n",
    "print(f\"We're going to erase {filename}.\")\n",
    "print(\"If you don't want that, hit CTRL-C (^C).\")\n",
    "print(\"If you do want that, hit RETURN.\")\n",
    "\n",
    "input(\"?\")\n",
    "\n",
    "print(\"Opening the file...\")\n",
    "target = open(filename, 'w')\n",
    "print(\"Truncating the file. Goodbye!\")\n",
    "target.truncate()\n",
    "\n",
    "print(\"Now I'm going to ask you for three lines.\")\n",
    "\n",
    "line1 = input(\"line 1: \")\n",
    "line2 = input(\"line 2: \")\n",
    "line3 = input(\"line 3: \")\n",
    "\n",
    "print(\"I'm going to write these to the file.\")\n",
    "\n",
    "target.write(line1)\n",
    "target.write(\"\\n\")\n",
    "target.write(line2)\n",
    "target.write(\"\\n\")\n",
    "target.write(line3)\n",
    "target.write(\"\\n\")\n",
    "\n",
    "print(\"And finally, we close it.\")\n",
    "target.close()\n"
   ]
  },
  {
   "cell_type": "markdown",
   "metadata": {},
   "source": [
    "### Exercise 17 More Files\n",
    "We’ll write a Python script to copy one file to another. It’ll be very short but will give you ideas about other things you can do with files."
   ]
  },
  {
   "cell_type": "code",
   "execution_count": null,
   "metadata": {},
   "outputs": [],
   "source": [
    "from sys import argv\n",
    "from os.path import exists\n",
    "\n",
    "script, from_file, to_file = argv\n",
    "\n",
    "print(f\"Copying from {from_file} to {to_file}\")\n",
    "\n",
    "\n",
    "in_file = open(from_file)\n",
    "indata = in_file.read()\n",
    "\n",
    "print(f\"The input file is {len(indata)} bytes long\")\n",
    "\n",
    "print(f\"Does the output file exist? {exists(to_file)}\")\n",
    "print(\"Ready, hit RETURN to continue, CTRL-C to abort.\")\n",
    "input()\n",
    "\n",
    "out_file = open(to_file, 'w') \n",
    "out_file.write(indata)\n",
    "\n",
    "print(\"Alright, all done.\")\n",
    "\n",
    "out_file.close()\n",
    "in_file.close()\n"
   ]
  },
  {
   "cell_type": "markdown",
   "metadata": {},
   "source": [
    "# EXERCISE 18"
   ]
  },
  {
   "cell_type": "markdown",
   "metadata": {},
   "source": [
    "## We are just declaring the def and print the text"
   ]
  },
  {
   "cell_type": "code",
   "execution_count": null,
   "metadata": {},
   "outputs": [],
   "source": [
    "def print_two(*args):\n",
    "    arg1, arg2 = args \n",
    "    print(f\"arg1: {arg1}, arg2: {arg2}\")\n",
    "\n",
    "def print_two_again(arg1, arg2): \n",
    "    print(f\"arg1: {arg1}, arg2: {arg2}\")\n",
    "\n",
    "def print_one(arg1): \n",
    "    print(f\"arg1: {arg1}\")\n",
    "def print_none(): \n",
    "    print(\"I got nothin'.\")\n",
    "print_two(\"Zed\",\"Shaw\") \n",
    "print_two_again(\"Zed\",\"Shaw\") \n",
    "print_one(\"First!\") \n",
    "print_none()"
   ]
  },
  {
   "cell_type": "markdown",
   "metadata": {},
   "source": [
    "# EXERCISE 19"
   ]
  },
  {
   "cell_type": "markdown",
   "metadata": {},
   "source": [
    "## The def statement is a function definition used to create user-defined function objects. In this case we are saving in this variable sentences and variables"
   ]
  },
  {
   "cell_type": "code",
   "execution_count": null,
   "metadata": {},
   "outputs": [],
   "source": [
    "def c_d(cookie_count, boxes_candies): \n",
    "    print(f\"You have {cookie_count} cookies!\") \n",
    "    print(f\"You have {boxes_candies} boxes of candies!\") "
   ]
  },
  {
   "cell_type": "markdown",
   "metadata": {},
   "source": [
    "## We are using the variable and give it a value of different ways. At the end, we just print the sentences whit the nwe values"
   ]
  },
  {
   "cell_type": "code",
   "execution_count": null,
   "metadata": {},
   "outputs": [],
   "source": [
    "print(\"We can just give the function numbers directly:\") \n",
    "c_d(20, 30)\n",
    "\n",
    "print(\"OR, we can use variables from our script:\") \n",
    "amount_cookie= 10 \n",
    "amount_of_candies = 50\n",
    "c_d(amount_cookie, amount_of_candies)\n",
    "print(\"We can even do math inside too:\") \n",
    "c_d(10 + 20, 5 + 6)\n",
    "print(\"And we can combine the two, variables and math:\") \n",
    "c_d(amount_cookie + 100, amount_of_candies + 1000)"
   ]
  },
  {
   "cell_type": "markdown",
   "metadata": {},
   "source": [
    "# EXERCISE 20"
   ]
  },
  {
   "cell_type": "code",
   "execution_count": null,
   "metadata": {},
   "outputs": [],
   "source": []
  },
  {
   "cell_type": "markdown",
   "metadata": {},
   "source": [
    "# EXERCISE 21\n",
    "## Functions Can Return Something"
   ]
  },
  {
   "cell_type": "markdown",
   "metadata": {},
   "source": [
    "## Here we are defining function that will be able to do the simple mathematical operations"
   ]
  },
  {
   "cell_type": "code",
   "execution_count": null,
   "metadata": {},
   "outputs": [],
   "source": [
    "def suma(a, b): \n",
    "    print(f\"ADDING {a} + {b}\") \n",
    "    return a + b\n",
    "def res(a, b): \n",
    "    print(f\"SUBTRACTING {a} - {b}\") \n",
    "    return a - b\n",
    "def mul(a, b): \n",
    "    print(f\"MULTIPLYING {a} * {b}\") \n",
    "    return a * b\n",
    "def div(a, b):\n",
    "    print(f\"DIVIDING {a} / {b}\") \n",
    "    return a / b"
   ]
  },
  {
   "cell_type": "markdown",
   "metadata": {},
   "source": [
    "## This is more that we did before, giving values to the variables and print"
   ]
  },
  {
   "cell_type": "code",
   "execution_count": null,
   "metadata": {},
   "outputs": [],
   "source": [
    "print(\"use maths!\")\n",
    "dogs = suma(4, 5) \n",
    "cats = res(8, 4) \n",
    "Parrows= mul(4, 2) \n",
    "birds= div(3, 2)\n",
    "print(f\"Dogs: {dogs}, Cats: {cats}, Parrows: {Parrows}, birds: {birds}\")\n",
    "what = suma(dogs, res(cats, mul(Parrows, div(birds, 2))))\n",
    "print(\"That becomes: \", what, \"Can you do it by hand?\")"
   ]
  },
  {
   "cell_type": "markdown",
   "metadata": {},
   "source": [
    "# EXERCISE 40\n",
    "## Modules, Classes, and Objects"
   ]
  },
  {
   "cell_type": "markdown",
   "metadata": {},
   "source": [
    "## here we are just defining the class in order to put the new variables in the sentences"
   ]
  },
  {
   "cell_type": "code",
   "execution_count": null,
   "metadata": {},
   "outputs": [],
   "source": [
    "class chivas(object):\n",
    "    def __init__(self, lyrics): \n",
    "        self.lyrics = lyrics\n",
    "    def sing_me_a_song(self): \n",
    "        for line in self.lyrics: \n",
    "            print(line)\n",
    "reban = chivas([\"Dale\", \n",
    "                   \"Dale\",  \n",
    "                   \"´Rebaño\"])\n",
    "rebn = chivas([\"Dale\", \n",
    "                        \"Rebañooo\"])\n",
    "reban.sing_me_a_song()\n",
    "rebn.sing_me_a_song()"
   ]
  },
  {
   "cell_type": "markdown",
   "metadata": {},
   "source": [
    "# EXERCISE 41\n",
    "## Learning to Speak Object-Oriented, we did not understand professor, can you explain us?"
   ]
  },
  {
   "cell_type": "code",
   "execution_count": null,
   "metadata": {},
   "outputs": [],
   "source": [
    "import random \n",
    "from urllib.request import urlopen \n",
    "import sys\n",
    "WORD_URL = \"http://learncodethehardway.org/words.txt\" \n",
    "WORDS = []\n",
    "PHRASES = { \n",
    "    \"class %%%(%%%):\": \n",
    "    \"Make a class named %%% that is-a %%%.\", \n",
    "    \"class %%%(object):\\n\\tdef __init__(self, ***)\" : \n",
    "    \"class %%% has-a __init__ that takes self and *** params.\", \n",
    "    \"class %%%(object):\\n\\tdef ***(self, @@@)\": \n",
    "    \"class %%% has-a function *** that takes self and @@@ params.\", \n",
    "    \"*** = %%%()\": \n",
    "    \"Set *** to an instance of class %%%.\", \n",
    "    \"***.***(@@@)\": \n",
    "    \"From *** get the *** function, call it with params self, @@@.\", \n",
    "    \"***.*** = '***'\": \n",
    "    \"From *** get the *** attribute and set it to '***'.\" \n",
    "}\n",
    "\n",
    "# do they want to drill phrases first \n",
    "if len(sys.argv) == 2 and sys.argv[1] == \"english\": \n",
    "    PHRASE_FIRST = True \n",
    "else: \n",
    "        PHRASE_FIRST = False\n",
    "# load up the words from the website \n",
    "for word in urlopen(WORD_URL).readlines(): \n",
    "    WORDS.append(str(word.strip(), encoding=\"utf-8\"))\n",
    "def convert(snippet, phrase): \n",
    "    class_names = [w.capitalize() for w in\n",
    "                   random.sample(WORDS, snippet.count(\"%%%\"))] \n",
    "    other_names = random.sample(WORDS, snippet.count(\"***\")) \n",
    "    results = [] \n",
    "    param_names = []\n",
    "    for i in range(0, snippet.count(\"@@@\")): \n",
    "        param_count = random.randint(1,3) \n",
    "        param_names.append(', '.join( \n",
    "            random.sample(WORDS, param_count)))\n",
    "    for sentence in snippet, phrase: \n",
    "        result = sentence[:]\n",
    "        # fake class names \n",
    "        for word in class_names:\n",
    "            result = result.replace(\"%%%\", word, 1)\n",
    "        # fake other names \n",
    "        for word in other_names: \n",
    "            result = result.replace(\"***\", word, 1)\n",
    "        # fake parameter lists \n",
    "        for word in param_names: \n",
    "            result = result.replace(\"@@@\", word, 1)\n",
    "        results.append(result)\n",
    "    return results\n",
    "# keep going until they hit CTRL-D \n",
    "try: \n",
    "    while True: \n",
    "        snippets = list(PHRASES.keys()) \n",
    "        random.shuffle(snippets)\n",
    "        for snippet in snippets:\n",
    "            phrase = PHRASES[snippet] \n",
    "            question, answer = convert(snippet, phrase) \n",
    "            if PHRASE_FIRST: \n",
    "                question, answer = answer, question\n",
    "            print(question)\n",
    "            input(\"> \") \n",
    "            print(f\"ANSWER: {answer}\\n\\n\") \n",
    "except EOFError: \n",
    "    print(\"\\nBye\")"
   ]
  },
  {
   "cell_type": "markdown",
   "metadata": {},
   "source": [
    "# EXERCISE 42\n",
    "## Is-A, Has-A, Objects, and Classes"
   ]
  },
  {
   "cell_type": "code",
   "execution_count": null,
   "metadata": {},
   "outputs": [],
   "source": [
    "## Animal is-a object (yes, sort of confusing) look at the extra credit \n",
    "class Animal(object): \n",
    "    pass\n",
    "## ?? \n",
    "class Dog(Animal):\n",
    "    def __init__(self, name): \n",
    "        ## ?? \n",
    "        self.name = name\n",
    "## ?? \n",
    "class Cat(Animal):\n",
    "    def __init__(self, name): \n",
    "        ## ?? \n",
    "        self.name = name\n",
    "## ?? \n",
    "class Person(object):\n",
    "    def __init__(self, name): \n",
    "        ## ?? \n",
    "        self.name = name\n",
    "        ## Person has-a pet of some kind\n",
    "\n",
    "        self.pet = None\n",
    "## ?? \n",
    "class Employee(Person):\n",
    "     def __init__(self, name, salary): \n",
    "            ## ?? hmm what is this strange magic? \n",
    "            super(Employee, self).__init__(name) \n",
    "            ## ?? \n",
    "            self.salary = salary\n",
    "            \n",
    "## ?? \n",
    "class Fish(object): \n",
    "    pass\n",
    "## ?? \n",
    "class Salmon(Fish): \n",
    "    pass\n",
    "## ?? \n",
    "class Halibut(Fish): \n",
    "    pass\n",
    "## rover is-a Dog \n",
    "rover = Dog(\"Rover\")\n",
    "## ?? \n",
    "satan = Cat(\"Satan\")\n",
    "## ??\n",
    "mary = Person(\"Mary\")\n",
    "## ?? \n",
    "mary.pet = satan\n",
    "## ??\n",
    "frank = Employee(\"Frank\", 120000)\n",
    "## ?? \n",
    "frank.pet = rover\n",
    "## ?? \n",
    "flipper = Fish()\n",
    "\n",
    "## ?? \n",
    "crouse = Salmon()\n",
    "## ?? \n",
    "harry = Halibut()"
   ]
  }
 ],
 "metadata": {
  "kernelspec": {
   "display_name": "Python 3",
   "language": "python",
   "name": "python3"
  },
  "language_info": {
   "codemirror_mode": {
    "name": "ipython",
    "version": 3
   },
   "file_extension": ".py",
   "mimetype": "text/x-python",
   "name": "python",
   "nbconvert_exporter": "python",
   "pygments_lexer": "ipython3",
   "version": "3.7.4"
  }
 },
 "nbformat": 4,
 "nbformat_minor": 2
}
