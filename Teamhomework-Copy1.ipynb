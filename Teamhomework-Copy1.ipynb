{
 "cells": [
  {
   "cell_type": "markdown",
   "metadata": {},
   "source": [
    "## <hl><U><CENTER><FONT SIZE=\"14\"><FONT color=\"black\"> <FONT face=\"aharoni\">  HOMEWORK I </FONT> </FONT></FONT></CENTER> </hl></U><hr size=\"1\" width=\"75%\" style=\"color: red\">"
   ]
  },
  {
   "cell_type": "markdown",
   "metadata": {},
   "source": [
    "<i><b><FONT SIZE=\"6\"> <center>-----Excercise 1, <strong>A Good First Program----- </center></strong> </FONT> </i></b>"
   ]
  },
  {
   "cell_type": "markdown",
   "metadata": {},
   "source": [
    "<hl><FONT SIZE=\"6\"><FONT color=\"black\"> <FONT face=\"arial black\">•Print </FONT> </FONT></FONT></hl>\n",
    "\n",
    "\n",
    "<FONT face=\"arial\"> <FONT SIZE=\"4\">It is used to write text on screen</FONT></FONT>"
   ]
  },
  {
   "cell_type": "code",
   "execution_count": 1,
   "metadata": {},
   "outputs": [
    {
     "name": "stdout",
     "output_type": "stream",
     "text": [
      "Hello World!\n",
      "I love programming\n",
      "arriba las chivas\n"
     ]
    }
   ],
   "source": [
    "print(\"Hello World!\")\n",
    "print(\"I love programming\")\n",
    "print(\"arriba las chivas\")"
   ]
  },
  {
   "cell_type": "markdown",
   "metadata": {},
   "source": [
    "<i><b><FONT SIZE=\"6\"> <center>-----Excercise 2, <strong>Comments and Pound Characters----- </center></strong> </FONT> </i></b>"
   ]
  },
  {
   "cell_type": "markdown",
   "metadata": {},
   "source": [
    "<hl><FONT SIZE=\"6\"><FONT color=\"black\"> <FONT face=\"arial black\">•# </FONT> </FONT></FONT></hl>\n",
    "\n",
    "\n",
    "<FONT face=\"arial\"> <FONT SIZE=\"4\">It is used to write comments on the code whitout affect it</FONT></FONT>"
   ]
  },
  {
   "cell_type": "code",
   "execution_count": 2,
   "metadata": {},
   "outputs": [
    {
     "name": "stdout",
     "output_type": "stream",
     "text": [
      "I could have code like this.\n",
      "This will run.\n"
     ]
    }
   ],
   "source": [
    "\n",
    "print(\"I could have code like this.\") #print is used to write text on screen\n",
    "print(\"This will run.\")"
   ]
  },
  {
   "cell_type": "markdown",
   "metadata": {},
   "source": [
    "<i><b><FONT SIZE=\"6\"> <center>-----Excercise 3, <strong>Numbers and Math----- </center></strong> </FONT> </i></b>"
   ]
  },
  {
   "cell_type": "markdown",
   "metadata": {},
   "source": [
    "<hl><FONT SIZE=\"6\"><FONT color=\"black\"> <FONT face=\"arial black\">•Mathematical operations </FONT> </FONT></FONT></hl>\n",
    "\n",
    "\n",
    "<FONT face=\"arial\"> <FONT SIZE=\"4\">They are used to perform the operations we already know about math</FONT></FONT>\n",
    "\n"
   ]
  },
  {
   "cell_type": "code",
   "execution_count": 3,
   "metadata": {},
   "outputs": [
    {
     "name": "stdout",
     "output_type": "stream",
     "text": [
      "I will now count my toys:\n",
      "cars 30.0\n",
      "xbox 97\n",
      "Now I will count the money:\n",
      "6.75\n"
     ]
    }
   ],
   "source": [
    "print(\"I will now count my toys:\")\n",
    "print(\"cars\", 25 + 30 / 6)\n",
    "print(\"xbox\", 100 - 25 * 3 % 4)\n",
    "print(\"Now I will count the money:\")\n",
    "print(3 + 2 + 1 - 5 + 4 % 2 - 1 / 4 + 6)"
   ]
  },
  {
   "cell_type": "markdown",
   "metadata": {},
   "source": [
    "<hl><FONT SIZE=\"6\"><FONT color=\"black\"> <FONT face=\"arial black\">•False/True </FONT> </FONT></FONT></hl>\n",
    "\n",
    "\n",
    "<FONT face=\"arial\"> <FONT SIZE=\"4\">It is used to know if what is written is correct or not</FONT></FONT>"
   ]
  },
  {
   "cell_type": "code",
   "execution_count": 4,
   "metadata": {},
   "outputs": [
    {
     "name": "stdout",
     "output_type": "stream",
     "text": [
      "Is it true that 3 + 2 < 5 - 7?\n",
      "What is 3 + 2? 5\n",
      "What is 5 - 7? -2\n",
      "Oh, that's why it's False.\n",
      "How about some more.\n",
      "Is it greater? True\n",
      "Is it greater or equal? False\n",
      "Is it less or equal? False\n"
     ]
    }
   ],
   "source": [
    "print(\"Is it true that 3 + 2 < 5 - 7?\")\n",
    "print(\"What is 3 + 2?\", 3 + 2)\n",
    "print(\"What is 5 - 7?\", 5 - 7)\n",
    "print(\"Oh, that's why it's False.\")\n",
    "print(\"How about some more.\")\n",
    "print(\"Is it greater?\", 45 > -7)\n",
    "print(\"Is it greater or equal?\", 34 >= 45)\n",
    "print(\"Is it less or equal?\", 34 <= -56)"
   ]
  },
  {
   "cell_type": "markdown",
   "metadata": {},
   "source": [
    "<i><b><FONT SIZE=\"6\"> <center>-----Excercise 4, <strong>Variables and Names----- </center></strong> </FONT> </i></b>"
   ]
  },
  {
   "cell_type": "markdown",
   "metadata": {},
   "source": [
    "<hl><FONT SIZE=\"6\"><FONT color=\"black\"> <FONT face=\"arial black\">•Variables </FONT> </FONT></FONT></hl>\n",
    "\n",
    "\n",
    "<FONT face=\"arial\"> <FONT SIZE=\"4\">The variables are used to declare a function, a mathematical operation or a value, to save space when programming</FONT></FONT>"
   ]
  },
  {
   "cell_type": "code",
   "execution_count": 5,
   "metadata": {},
   "outputs": [
    {
     "ename": "SyntaxError",
     "evalue": "invalid syntax (<ipython-input-5-4a76522b3065>, line 9)",
     "output_type": "error",
     "traceback": [
      "\u001b[1;36m  File \u001b[1;32m\"<ipython-input-5-4a76522b3065>\"\u001b[1;36m, line \u001b[1;32m9\u001b[0m\n\u001b[1;33m    print(\"We need to put about\", , \"in each car.\")\u001b[0m\n\u001b[1;37m                                  ^\u001b[0m\n\u001b[1;31mSyntaxError\u001b[0m\u001b[1;31m:\u001b[0m invalid syntax\n"
     ]
    }
   ],
   "source": [
    "toys = 100\n",
    "\n",
    "workers = 30\n",
    "customers = 90\n",
    "\n",
    "print(\"There are\", cars, \"toys in the store.\")\n",
    "print(\"There are only\", workers, \"workers available.\")\n",
    "print(\"We have\", customers, \"to attented\")\n",
    "print(\"We need to put about\", , \"in each car.\")"
   ]
  },
  {
   "cell_type": "markdown",
   "metadata": {},
   "source": [
    "<i><b><FONT SIZE=\"6\"> <center>-----Excercise 5, <strong>More Variables and Printing ----- </center></strong> </FONT> </i></b>"
   ]
  },
  {
   "cell_type": "code",
   "execution_count": null,
   "metadata": {},
   "outputs": [],
   "source": [
    "a=19\n",
    "b='San luis'\n",
    "c='dog'\n",
    "d= 'Alvarez'\n",
    "e=13\n",
    "f=14"
   ]
  },
  {
   "cell_type": "markdown",
   "metadata": {},
   "source": [
    "<hl><FONT SIZE=\"6\"><FONT color=\"black\"> <FONT face=\"arial black\">•Variables inside a string </FONT> </FONT></FONT></hl>\n",
    "\n",
    "\n",
    "<FONT face=\"arial\"> <FONT SIZE=\"4\">You embed variables inside a string by using a special {} sequence and then put the variable you want inside the {} characters. You also must start the string with the letter f for ”format”,as in f\"Hello{somevar}\".</FONT></FONT>\n"
   ]
  },
  {
   "cell_type": "code",
   "execution_count": null,
   "metadata": {},
   "outputs": [],
   "source": [
    "print(f\"Let's talk about {d}.\")\n",
    "print(f\"He's from {b} \")\n",
    "print(f\"He has a {c} \")\n",
    "print(\"his dog is so cute\")\n",
    "print(f\"his dog weighs {f} kg\")\n",
    "print(f\"he has lived {e} years whit him\")\n",
    "total = a + e + f\n",
    "print(f\"If I add {a}, {e}, and {f} I get {total}.\")"
   ]
  },
  {
   "cell_type": "markdown",
   "metadata": {},
   "source": [
    "<i><b><FONT SIZE=\"6\"> <center>-----Excercise 6, <strong>More Variables and Printing----- </center></strong> </FONT> </i></b>\n"
   ]
  },
  {
   "cell_type": "markdown",
   "metadata": {},
   "source": [
    "<hl><FONT SIZE=\"6\"><FONT color=\"black\"> <FONT face=\"arial black\">•f-string</FONT> </FONT></FONT></hl>\n",
    "\n",
    "\n",
    "<FONT face=\"arial\"><FONT SIZE=\"4\"> it is used when we want to save into a string varibe in another varible</FONT></FONT>"
   ]
  },
  {
   "cell_type": "code",
   "execution_count": null,
   "metadata": {},
   "outputs": [],
   "source": [
    "r = 50\n",
    "f= f\"there are {r} shoes in my room\" \n",
    "\n",
    "t = \"parties\"\n",
    "e=\"running\"\n",
    "y = f\"some are for {e} and another for {t}.\"\n",
    "\n",
    "print(f)\n",
    "print(y)\n",
    "print(f\"I said: {r}\")\n",
    "print(f\"I also said: '{y}'\")\n",
    "\n",
    "g = True\n",
    "\n",
    "\n"
   ]
  },
  {
   "cell_type": "markdown",
   "metadata": {},
   "source": [
    "<hl><FONT SIZE=\"6\"><FONT color=\"black\"> <FONT face=\"arial black\">•.format()</FONT> </FONT></FONT></hl>\n",
    "\n",
    "\n",
    "<FONT face=\"arial\"> <FONT SIZE=\"4\">It is used when we want want to apply a format to an already created string</FONT></FONT>"
   ]
  },
  {
   "cell_type": "code",
   "execution_count": null,
   "metadata": {},
   "outputs": [],
   "source": [
    "fut = \"Isn't that joke so funny?! {}\"\n",
    "print(fut.format(g))\n",
    "w = \"This is the left side of...\"\n",
    "que = \"a string with a right side.\"\n",
    "print(w + que)"
   ]
  },
  {
   "cell_type": "markdown",
   "metadata": {},
   "source": [
    "<i><b><FONT SIZE=\"6\"> <center>-----Excercise 7, <strong>More Printing ----- </center></strong> </FONT> </i></b>"
   ]
  },
  {
   "cell_type": "markdown",
   "metadata": {},
   "source": [
    "<FONT face=\"arial\"> <FONT SIZE=\"4\">In this exercise, we only declared variables to finally get together and form a simple sentence</FONT></FONT>"
   ]
  },
  {
   "cell_type": "code",
   "execution_count": null,
   "metadata": {},
   "outputs": [],
   "source": [
    "print(\"Carlos has a new bag.\")\n",
    "print(\"Its red like a {}.\".format('tomato'))\n",
    "print(\".\" * 10) \n",
    "\n",
    "abc1 = \"h\"\n",
    "abc2 = \"e\"\n",
    "abc3 = \"l\"\n",
    "abc4 = \"l\"\n",
    "abc5 = \"o\"\n",
    "\n",
    "abc7 = \"w\"\n",
    "abc8 = \"o\"\n",
    "abc9 = \"r\"\n",
    "abc10 = \"l\"\n",
    "abc11 = \"d\"\n",
    "\n",
    "print(abc1 + abc2 + abc3 + abc4 + abc5, end=' ')\n",
    "print(abc7 + abc8 + abc9 + abc10 + abc11 )"
   ]
  },
  {
   "cell_type": "markdown",
   "metadata": {},
   "source": [
    "<i><b><FONT SIZE=\"6\"> <center>-----Excercise 8, <strong>Printing, Printing ----- </center></strong> </FONT> </i></b>"
   ]
  },
  {
   "cell_type": "markdown",
   "metadata": {},
   "source": [
    "<hl><FONT SIZE=\"6\"><FONT color=\"black\"> <FONT face=\"arial black\">•formatter</FONT> </FONT></FONT></hl>\n",
    "\n",
    "\n",
    "<FONT face=\"arial\"> <FONT SIZE=\"4\">Formatters work by putting in one or more replacement fields and placeholders defined by a pair of curly braces {} into a string and calling the .format ()</FONT></FONT>"
   ]
  },
  {
   "cell_type": "code",
   "execution_count": null,
   "metadata": {},
   "outputs": [],
   "source": [
    "formatter = \"{} {} {} {}\"\n",
    "\n",
    "print(formatter.format(1, 2, 3, 4))\n",
    "print(formatter.format(\"apple\", \"orange\", \"cucumber\", \"banana\"))\n",
    "print(formatter.format(True, False, False, True))\n",
    "print(formatter.format(formatter, formatter, formatter, formatter))\n",
    "print(formatter.format(\n",
    "   \"A poem by Patrick star:\",\n",
    "   \"The roses are blue, \",\n",
    "   \"the violets are red, \",\n",
    "   \"and I have to go to the bathroom\"\n",
    "))"
   ]
  },
  {
   "cell_type": "markdown",
   "metadata": {},
   "source": [
    "<i><b><FONT SIZE=\"6\"><center>----- Excercise 9, <strong>Printing, Printing, Printing ----- </center></strong> </FONT> </i></b>"
   ]
  },
  {
   "cell_type": "markdown",
   "metadata": {},
   "source": [
    "<hl><FONT SIZE=\"6\"><FONT color=\"black\"> <FONT face=\"arial black\">•\\n</FONT> </FONT></FONT></hl>\n",
    "\n",
    "\n",
    "<FONT face=\"arial\"> <FONT SIZE=\"4\"> The \\n is used like the \"enter\" in our keyboards, is for give us a jump in the text</FONT></FONT>"
   ]
  },
  {
   "cell_type": "code",
   "execution_count": null,
   "metadata": {},
   "outputs": [],
   "source": [
    "firstletters = \"A B C D E F G H I J\"\n",
    "mylastgrades = \"\\nAU \\nAU\\nSA\\nDE\\nAU\\nDE\\nAU\\nSA\"\n",
    "print(\"Here are the first letters: \", firstletters)\n",
    "print(\"Here are my last grae: \", mylastgrades)\n",
    "print(\"\")"
   ]
  },
  {
   "cell_type": "markdown",
   "metadata": {},
   "source": [
    "<i><b><FONT SIZE=\"6\"> <center>-----Excercise 10, <strong>What Was That?----- </center></strong> </FONT> </i></b>"
   ]
  },
  {
   "cell_type": "markdown",
   "metadata": {},
   "source": [
    "<hl><FONT SIZE=\"6\"><FONT color=\"black\"> <FONT face=\"arial black\">•\\t</FONT> </FONT></FONT></hl>\n",
    "\n",
    "\n",
    "<FONT face=\"arial\"> <FONT SIZE=\"4\"> it is used to simulate indentations</FONT></FONT>"
   ]
  },
  {
   "cell_type": "code",
   "execution_count": null,
   "metadata": {},
   "outputs": [],
   "source": [
    "asx = \"\\t hello.\"\n",
    "bsx = \"I'm \\n erick.\""
   ]
  },
  {
   "cell_type": "markdown",
   "metadata": {},
   "source": [
    "<hl><FONT SIZE=\"6\"><FONT color=\"black\"> <FONT face=\"arial black\">•\\ (backslash)</FONT> </FONT></FONT></hl>\n",
    "\n",
    "\n",
    "<FONT face=\"arial\"> <FONT SIZE=\"4\"> It is used to create spaces in a text with a slash, very similar to the comma</FONT></FONT>"
   ]
  },
  {
   "cell_type": "code",
   "execution_count": null,
   "metadata": {},
   "outputs": [],
   "source": [
    "csx = \"i \\\\ want\\\\ eat.\""
   ]
  },
  {
   "cell_type": "markdown",
   "metadata": {},
   "source": [
    "<hl><FONT SIZE=\"6\"><FONT color=\"black\"> <FONT face=\"arial black\"> •\\t*</FONT> </FONT></FONT></hl>\n",
    "\n",
    "\n",
    "<FONT face=\"arial\"> <FONT SIZE=\"4\"> It is used to create the points of a list</FONT></FONT>"
   ]
  },
  {
   "cell_type": "code",
   "execution_count": 6,
   "metadata": {},
   "outputs": [
    {
     "ename": "NameError",
     "evalue": "name 'asx' is not defined",
     "output_type": "error",
     "traceback": [
      "\u001b[1;31m---------------------------------------------------------------------------\u001b[0m",
      "\u001b[1;31mNameError\u001b[0m                                 Traceback (most recent call last)",
      "\u001b[1;32m<ipython-input-6-ad5c1bc33047>\u001b[0m in \u001b[0;36m<module>\u001b[1;34m\u001b[0m\n\u001b[0;32m      7\u001b[0m  \"\"\"\n\u001b[0;32m      8\u001b[0m \u001b[1;33m\u001b[0m\u001b[0m\n\u001b[1;32m----> 9\u001b[1;33m \u001b[0mprint\u001b[0m\u001b[1;33m(\u001b[0m\u001b[0masx\u001b[0m\u001b[1;33m)\u001b[0m\u001b[1;33m\u001b[0m\u001b[1;33m\u001b[0m\u001b[0m\n\u001b[0m\u001b[0;32m     10\u001b[0m \u001b[0mprint\u001b[0m\u001b[1;33m(\u001b[0m\u001b[0mbsx\u001b[0m\u001b[1;33m)\u001b[0m\u001b[1;33m\u001b[0m\u001b[1;33m\u001b[0m\u001b[0m\n\u001b[0;32m     11\u001b[0m \u001b[0mprint\u001b[0m\u001b[1;33m(\u001b[0m\u001b[0mcsx\u001b[0m\u001b[1;33m)\u001b[0m\u001b[1;33m\u001b[0m\u001b[1;33m\u001b[0m\u001b[0m\n",
      "\u001b[1;31mNameError\u001b[0m: name 'asx' is not defined"
     ]
    }
   ],
   "source": [
    "\n",
    "ssx = \"\"\"\n",
    " I did a food list :\n",
    " \\t* Pizza\n",
    " \\t* tacos\n",
    " \\t* tamales\\n\n",
    " \\t* Gorditas\n",
    " \"\"\"\n",
    "\n",
    "print(asx)\n",
    "print(bsx)\n",
    "print(csx)\n",
    "print(ssx)"
   ]
  }
 ],
 "metadata": {
  "kernelspec": {
   "display_name": "Python 3",
   "language": "python",
   "name": "python3"
  },
  "language_info": {
   "codemirror_mode": {
    "name": "ipython",
    "version": 3
   },
   "file_extension": ".py",
   "mimetype": "text/x-python",
   "name": "python",
   "nbconvert_exporter": "python",
   "pygments_lexer": "ipython3",
   "version": "3.7.4"
  }
 },
 "nbformat": 4,
 "nbformat_minor": 2
}
