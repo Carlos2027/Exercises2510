{
 "cells": [
  {
   "cell_type": "markdown",
   "metadata": {},
   "source": [
    "# Homework 2"
   ]
  },
  {
   "cell_type": "markdown",
   "metadata": {},
   "source": [
    "This program asks to enter 3 values and t the end gives us sample mean"
   ]
  },
  {
   "cell_type": "code",
   "execution_count": 1,
   "metadata": {},
   "outputs": [
    {
     "name": "stdout",
     "output_type": "stream",
     "text": [
      "How old are the first one  4\n",
      "How old are the second one 5\n",
      "How old are the third one 6\n",
      "the sample mean is 5.0\n"
     ]
    }
   ],
   "source": [
    "a=int(input(\"How old are the first one  \"))\n",
    "b=int(input(\"How old are the second one \"))\n",
    "c=int(input(\"How old are the third one \"))\n",
    "d=(a+b+c)/3\n",
    "print(f\"the sample mean is {d}\")"
   ]
  }
 ],
 "metadata": {
  "kernelspec": {
   "display_name": "Python 3",
   "language": "python",
   "name": "python3"
  },
  "language_info": {
   "codemirror_mode": {
    "name": "ipython",
    "version": 3
   },
   "file_extension": ".py",
   "mimetype": "text/x-python",
   "name": "python",
   "nbconvert_exporter": "python",
   "pygments_lexer": "ipython3",
   "version": "3.7.4"
  }
 },
 "nbformat": 4,
 "nbformat_minor": 2
}
