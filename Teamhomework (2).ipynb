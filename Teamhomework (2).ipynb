{
 "cells": [
  {
   "cell_type": "markdown",
   "metadata": {},
   "source": [
    "## <hl><U><CENTER><FONT SIZE=\"14\"><FONT color=\"black\"> <FONT face=\"aharoni\">  HOMEWORK I </FONT> </FONT></FONT></CENTER> </hl></U><hr size=\"1\" width=\"75%\" style=\"color: red\">"
   ]
  },
  {
   "cell_type": "markdown",
   "metadata": {},
   "source": [
    "<i><b><FONT SIZE=\"6\"> <center>-----Excercise 1, <strong>A Good First Program----- </center></strong> </FONT> </i></b>"
   ]
  },
  {
   "cell_type": "markdown",
   "metadata": {},
   "source": [
    "<hl><FONT SIZE=\"6\"><FONT color=\"black\"> <FONT face=\"arial black\">•Print </FONT> </FONT></FONT></hl>\n",
    "\n",
    "\n",
    "<FONT face=\"arial\"> <FONT SIZE=\"4\">It is used to write text on screen</FONT></FONT>"
   ]
  },
  {
   "cell_type": "code",
   "execution_count": 358,
   "metadata": {},
   "outputs": [
    {
     "name": "stdout",
     "output_type": "stream",
     "text": [
      "Hello World!\n",
      "I love programming\n",
      "arriba las chivas\n"
     ]
    }
   ],
   "source": [
    "print(\"Hello World!\")\n",
    "print(\"I love programming\")\n",
    "print(\"arriba las chivas\")"
   ]
  },
  {
   "cell_type": "markdown",
   "metadata": {},
   "source": [
    "<i><b><FONT SIZE=\"6\"> <center>-----Excercise 2, <strong>Comments and Pound Characters----- </center></strong> </FONT> </i></b>"
   ]
  },
  {
   "cell_type": "markdown",
   "metadata": {},
   "source": [
    "<hl><FONT SIZE=\"6\"><FONT color=\"black\"> <FONT face=\"arial black\">•# </FONT> </FONT></FONT></hl>\n",
    "\n",
    "\n",
    "<FONT face=\"arial\"> <FONT SIZE=\"4\">It is used to write comments on the code whitout affect it</FONT></FONT>"
   ]
  },
  {
   "cell_type": "code",
   "execution_count": 359,
   "metadata": {},
   "outputs": [
    {
     "name": "stdout",
     "output_type": "stream",
     "text": [
      "I could have code like this.\n",
      "This will run.\n"
     ]
    }
   ],
   "source": [
    "\n",
    "print(\"I could have code like this.\") #print is used to write text on screen\n",
    "print(\"This will run.\")"
   ]
  },
  {
   "cell_type": "markdown",
   "metadata": {},
   "source": [
    "<i><b><FONT SIZE=\"6\"> <center>-----Excercise 3, <strong>Numbers and Math----- </center></strong> </FONT> </i></b>"
   ]
  },
  {
   "cell_type": "markdown",
   "metadata": {},
   "source": [
    "<hl><FONT SIZE=\"6\"><FONT color=\"black\"> <FONT face=\"arial black\">•Mathematical operations </FONT> </FONT></FONT></hl>\n",
    "\n",
    "\n",
    "<FONT face=\"arial\"> <FONT SIZE=\"4\">They are used to perform the operations we already know about math</FONT></FONT>\n",
    "\n"
   ]
  },
  {
   "cell_type": "code",
   "execution_count": 360,
   "metadata": {},
   "outputs": [
    {
     "name": "stdout",
     "output_type": "stream",
     "text": [
      "I will now count my toys:\n",
      "cars 30.0\n",
      "xbox 97\n",
      "Now I will count the money:\n",
      "6.75\n"
     ]
    }
   ],
   "source": [
    "print(\"I will now count my toys:\")\n",
    "print(\"cars\", 25 + 30 / 6)\n",
    "print(\"xbox\", 100 - 25 * 3 % 4)\n",
    "print(\"Now I will count the money:\")\n",
    "print(3 + 2 + 1 - 5 + 4 % 2 - 1 / 4 + 6)"
   ]
  },
  {
   "cell_type": "markdown",
   "metadata": {},
   "source": [
    "<hl><FONT SIZE=\"6\"><FONT color=\"black\"> <FONT face=\"arial black\">•False/True </FONT> </FONT></FONT></hl>\n",
    "\n",
    "\n",
    "<FONT face=\"arial\"> <FONT SIZE=\"4\">It is used to know if what is written is correct or not</FONT></FONT>"
   ]
  },
  {
   "cell_type": "code",
   "execution_count": 361,
   "metadata": {},
   "outputs": [
    {
     "name": "stdout",
     "output_type": "stream",
     "text": [
      "Is it true that 3 + 2 < 5 - 7?\n",
      "What is 3 + 2? 5\n",
      "What is 5 - 7? -2\n",
      "Oh, that's why it's False.\n",
      "How about some more.\n",
      "Is it greater? True\n",
      "Is it greater or equal? False\n",
      "Is it less or equal? False\n"
     ]
    }
   ],
   "source": [
    "print(\"Is it true that 3 + 2 < 5 - 7?\")\n",
    "print(\"What is 3 + 2?\", 3 + 2)\n",
    "print(\"What is 5 - 7?\", 5 - 7)\n",
    "print(\"Oh, that's why it's False.\")\n",
    "print(\"How about some more.\")\n",
    "print(\"Is it greater?\", 45 > -7)\n",
    "print(\"Is it greater or equal?\", 34 >= 45)\n",
    "print(\"Is it less or equal?\", 34 <= -56)"
   ]
  },
  {
   "cell_type": "markdown",
   "metadata": {},
   "source": [
    "<i><b><FONT SIZE=\"6\"> <center>-----Excercise 4, <strong>Variables and Names----- </center></strong> </FONT> </i></b>"
   ]
  },
  {
   "cell_type": "markdown",
   "metadata": {},
   "source": [
    "<hl><FONT SIZE=\"6\"><FONT color=\"black\"> <FONT face=\"arial black\">•Variables </FONT> </FONT></FONT></hl>\n",
    "\n",
    "\n",
    "<FONT face=\"arial\"> <FONT SIZE=\"4\">The variables are used to declare a function, a mathematical operation or a value, to save space when programming</FONT></FONT>"
   ]
  },
  {
   "cell_type": "code",
   "execution_count": 373,
   "metadata": {},
   "outputs": [
    {
     "name": "stdout",
     "output_type": "stream",
     "text": [
      "There are 100 toys in the store.\n",
      "There are only 30 workers available.\n",
      "We have 130 to attented\n",
      "We need to buy 30 toys more\n"
     ]
    }
   ],
   "source": [
    "toys = 100\n",
    "\n",
    "workers = 30\n",
    "customers = 130\n",
    "toyss=customers-toys\n",
    "print(\"There are\", toys, \"toys in the store.\")\n",
    "print(\"There are only\", workers, \"workers available.\")\n",
    "print(\"We have\", customers, \"to attented\")\n",
    "print(\"We need to buy\",toyss,\"toys more\")"
   ]
  },
  {
   "cell_type": "markdown",
   "metadata": {},
   "source": [
    "<i><b><FONT SIZE=\"6\"> <center>-----Excercise 5, <strong>More Variables and Printing ----- </center></strong> </FONT> </i></b>"
   ]
  },
  {
   "cell_type": "code",
   "execution_count": 363,
   "metadata": {},
   "outputs": [],
   "source": [
    "a=19\n",
    "b='San luis'\n",
    "c='dog'\n",
    "d= 'Alvarez'\n",
    "e=13\n",
    "f=14"
   ]
  },
  {
   "cell_type": "markdown",
   "metadata": {},
   "source": [
    "<hl><FONT SIZE=\"6\"><FONT color=\"black\"> <FONT face=\"arial black\">•Variables inside a string </FONT> </FONT></FONT></hl>\n",
    "\n",
    "\n",
    "<FONT face=\"arial\"> <FONT SIZE=\"4\">You embed variables inside a string by using a special {} sequence and then put the variable you want inside the {} characters. You also must start the string with the letter f for ”format”,as in f\"Hello{somevar}\".</FONT></FONT>\n"
   ]
  },
  {
   "cell_type": "code",
   "execution_count": 364,
   "metadata": {},
   "outputs": [
    {
     "name": "stdout",
     "output_type": "stream",
     "text": [
      "Let's talk about Alvarez.\n",
      "He's from San luis \n",
      "He has a dog \n",
      "his dog is so cute\n",
      "his dog weighs 14 kg\n",
      "he has lived 13 years whit him\n",
      "If I add 19, 13, and 14 I get 46.\n"
     ]
    }
   ],
   "source": [
    "print(f\"Let's talk about {d}.\")\n",
    "print(f\"He's from {b} \")\n",
    "print(f\"He has a {c} \")\n",
    "print(\"his dog is so cute\")\n",
    "print(f\"his dog weighs {f} kg\")\n",
    "print(f\"he has lived {e} years whit him\")\n",
    "total = a + e + f\n",
    "print(f\"If I add {a}, {e}, and {f} I get {total}.\")"
   ]
  },
  {
   "cell_type": "markdown",
   "metadata": {},
   "source": [
    "<i><b><FONT SIZE=\"6\"> <center>-----Excercise 6, <strong>More Variables and Printing----- </center></strong> </FONT> </i></b>\n"
   ]
  },
  {
   "cell_type": "markdown",
   "metadata": {},
   "source": [
    "<hl><FONT SIZE=\"6\"><FONT color=\"black\"> <FONT face=\"arial black\">•f-string</FONT> </FONT></FONT></hl>\n",
    "\n",
    "\n",
    "<FONT face=\"arial\"><FONT SIZE=\"4\"> it is used when we want to save into a string varibe in another varible</FONT></FONT>"
   ]
  },
  {
   "cell_type": "code",
   "execution_count": 365,
   "metadata": {},
   "outputs": [
    {
     "name": "stdout",
     "output_type": "stream",
     "text": [
      "there are 50 shoes in my room\n",
      "some are for running and another for parties.\n",
      "I said: 50\n",
      "I also said: 'some are for running and another for parties.'\n"
     ]
    }
   ],
   "source": [
    "r = 50\n",
    "f= f\"there are {r} shoes in my room\" \n",
    "\n",
    "t = \"parties\"\n",
    "e=\"running\"\n",
    "y = f\"some are for {e} and another for {t}.\"\n",
    "\n",
    "print(f)\n",
    "print(y)\n",
    "print(f\"I said: {r}\")\n",
    "print(f\"I also said: '{y}'\")\n",
    "\n",
    "g = True\n",
    "\n",
    "\n"
   ]
  },
  {
   "cell_type": "markdown",
   "metadata": {},
   "source": [
    "<hl><FONT SIZE=\"6\"><FONT color=\"black\"> <FONT face=\"arial black\">•.format()</FONT> </FONT></FONT></hl>\n",
    "\n",
    "\n",
    "<FONT face=\"arial\"> <FONT SIZE=\"4\">It is used when we want want to apply a format to an already created string</FONT></FONT>"
   ]
  },
  {
   "cell_type": "code",
   "execution_count": 366,
   "metadata": {},
   "outputs": [
    {
     "name": "stdout",
     "output_type": "stream",
     "text": [
      "Isn't that joke so funny?! True\n",
      "This is the left side of...a string with a right side.\n"
     ]
    }
   ],
   "source": [
    "fut = \"Isn't that joke so funny?! {}\"\n",
    "print(fut.format(g))\n",
    "w = \"This is the left side of...\"\n",
    "que = \"a string with a right side.\"\n",
    "print(w + que)"
   ]
  },
  {
   "cell_type": "markdown",
   "metadata": {},
   "source": [
    "<i><b><FONT SIZE=\"6\"> <center>-----Excercise 7, <strong>More Printing ----- </center></strong> </FONT> </i></b>"
   ]
  },
  {
   "cell_type": "markdown",
   "metadata": {},
   "source": [
    "<FONT face=\"arial\"> <FONT SIZE=\"4\">In this exercise, we only declared variables to finally get together and form a simple sentence</FONT></FONT>"
   ]
  },
  {
   "cell_type": "code",
   "execution_count": 367,
   "metadata": {},
   "outputs": [
    {
     "name": "stdout",
     "output_type": "stream",
     "text": [
      "Carlos has a new bag.\n",
      "Its red like a tomato.\n",
      "..........\n",
      "hello world\n"
     ]
    }
   ],
   "source": [
    "print(\"Carlos has a new bag.\")\n",
    "print(\"Its red like a {}.\".format('tomato'))\n",
    "print(\".\" * 10) \n",
    "\n",
    "abc1 = \"h\"\n",
    "abc2 = \"e\"\n",
    "abc3 = \"l\"\n",
    "abc4 = \"l\"\n",
    "abc5 = \"o\"\n",
    "\n",
    "abc7 = \"w\"\n",
    "abc8 = \"o\"\n",
    "abc9 = \"r\"\n",
    "abc10 = \"l\"\n",
    "abc11 = \"d\"\n",
    "\n",
    "print(abc1 + abc2 + abc3 + abc4 + abc5, end=' ')\n",
    "print(abc7 + abc8 + abc9 + abc10 + abc11 )"
   ]
  },
  {
   "cell_type": "markdown",
   "metadata": {},
   "source": [
    "<i><b><FONT SIZE=\"6\"> <center>-----Excercise 8, <strong>Printing, Printing ----- </center></strong> </FONT> </i></b>"
   ]
  },
  {
   "cell_type": "markdown",
   "metadata": {},
   "source": [
    "<hl><FONT SIZE=\"6\"><FONT color=\"black\"> <FONT face=\"arial black\">•formatter</FONT> </FONT></FONT></hl>\n",
    "\n",
    "\n",
    "<FONT face=\"arial\"> <FONT SIZE=\"4\">Formatters work by putting in one or more replacement fields and placeholders defined by a pair of curly braces {} into a string and calling the .format ()</FONT></FONT>"
   ]
  },
  {
   "cell_type": "code",
   "execution_count": 368,
   "metadata": {},
   "outputs": [
    {
     "name": "stdout",
     "output_type": "stream",
     "text": [
      "1 2 3 4\n",
      "apple orange cucumber banana\n",
      "True False False True\n",
      "{} {} {} {} {} {} {} {} {} {} {} {} {} {} {} {}\n",
      "A poem by Patrick star: The roses are blue,  the violets are red,  and I have to go to the bathroom\n"
     ]
    }
   ],
   "source": [
    "formatter = \"{} {} {} {}\"\n",
    "\n",
    "print(formatter.format(1, 2, 3, 4))\n",
    "print(formatter.format(\"apple\", \"orange\", \"cucumber\", \"banana\"))\n",
    "print(formatter.format(True, False, False, True))\n",
    "print(formatter.format(formatter, formatter, formatter, formatter))\n",
    "print(formatter.format(\n",
    "   \"A poem by Patrick star:\",\n",
    "   \"The roses are blue, \",\n",
    "   \"the violets are red, \",\n",
    "   \"and I have to go to the bathroom\"\n",
    "))"
   ]
  },
  {
   "cell_type": "markdown",
   "metadata": {},
   "source": [
    "<i><b><FONT SIZE=\"6\"><center>----- Excercise 9, <strong>Printing, Printing, Printing ----- </center></strong> </FONT> </i></b>"
   ]
  },
  {
   "cell_type": "markdown",
   "metadata": {},
   "source": [
    "<hl><FONT SIZE=\"6\"><FONT color=\"black\"> <FONT face=\"arial black\">•\\n</FONT> </FONT></FONT></hl>\n",
    "\n",
    "\n",
    "<FONT face=\"arial\"> <FONT SIZE=\"4\"> The \\n is used like the \"enter\" in our keyboards, is for give us a jump in the text</FONT></FONT>"
   ]
  },
  {
   "cell_type": "code",
   "execution_count": 369,
   "metadata": {},
   "outputs": [
    {
     "name": "stdout",
     "output_type": "stream",
     "text": [
      "Here are the first letters:  A B C D E F G H I J\n",
      "Here are my last grae:  \n",
      "AU \n",
      "AU\n",
      "SA\n",
      "DE\n",
      "AU\n",
      "DE\n",
      "AU\n",
      "SA\n",
      "\n"
     ]
    }
   ],
   "source": [
    "firstletters = \"A B C D E F G H I J\"\n",
    "mylastgrades = \"\\nAU \\nAU\\nSA\\nDE\\nAU\\nDE\\nAU\\nSA\"\n",
    "print(\"Here are the first letters: \", firstletters)\n",
    "print(\"Here are my last grae: \", mylastgrades)\n",
    "print(\"\")"
   ]
  },
  {
   "cell_type": "markdown",
   "metadata": {},
   "source": [
    "<i><b><FONT SIZE=\"6\"> <center>-----Excercise 10, <strong>What Was That?----- </center></strong> </FONT> </i></b>"
   ]
  },
  {
   "cell_type": "markdown",
   "metadata": {},
   "source": [
    "<hl><FONT SIZE=\"6\"><FONT color=\"black\"> <FONT face=\"arial black\">•\\t</FONT> </FONT></FONT></hl>\n",
    "\n",
    "\n",
    "<FONT face=\"arial\"> <FONT SIZE=\"4\"> it is used to simulate indentations</FONT></FONT>"
   ]
  },
  {
   "cell_type": "code",
   "execution_count": 370,
   "metadata": {},
   "outputs": [],
   "source": [
    "asx = \"\\t hello.\"\n",
    "bsx = \"I'm \\n erick.\""
   ]
  },
  {
   "cell_type": "markdown",
   "metadata": {},
   "source": [
    "<hl><FONT SIZE=\"6\"><FONT color=\"black\"> <FONT face=\"arial black\">•\\ (backslash)</FONT> </FONT></FONT></hl>\n",
    "\n",
    "\n",
    "<FONT face=\"arial\"> <FONT SIZE=\"4\"> It is used to create spaces in a text with a slash, very similar to the comma</FONT></FONT>"
   ]
  },
  {
   "cell_type": "code",
   "execution_count": 371,
   "metadata": {},
   "outputs": [],
   "source": [
    "csx = \"i \\\\ want\\\\ eat.\""
   ]
  },
  {
   "cell_type": "markdown",
   "metadata": {},
   "source": [
    "<hl><FONT SIZE=\"6\"><FONT color=\"black\"> <FONT face=\"arial black\"> •\\t*</FONT> </FONT></FONT></hl>\n",
    "\n",
    "\n",
    "<FONT face=\"arial\"> <FONT SIZE=\"4\"> It is used to create the points of a list</FONT></FONT>"
   ]
  },
  {
   "cell_type": "code",
   "execution_count": 372,
   "metadata": {},
   "outputs": [
    {
     "name": "stdout",
     "output_type": "stream",
     "text": [
      "\t hello.\n",
      "I'm \n",
      " erick.\n",
      "i \\ want\\ eat.\n",
      "\n",
      " I did a food list :\n",
      " \t* Pizza\n",
      " \t* tacos\n",
      " \t* tamales\n",
      "\n",
      " \t* Gorditas\n",
      " \n"
     ]
    }
   ],
   "source": [
    "\n",
    "ssx = \"\"\"\n",
    " I did a food list :\n",
    " \\t* Pizza\n",
    " \\t* tacos\n",
    " \\t* tamales\\n\n",
    " \\t* Gorditas\n",
    " \"\"\"\n",
    "\n",
    "print(asx)\n",
    "print(bsx)\n",
    "print(csx)\n",
    "print(ssx)"
   ]
  }
 ],
 "metadata": {
  "kernelspec": {
   "display_name": "Python 3",
   "language": "python",
   "name": "python3"
  },
  "language_info": {
   "codemirror_mode": {
    "name": "ipython",
    "version": 3
   },
   "file_extension": ".py",
   "mimetype": "text/x-python",
   "name": "python",
   "nbconvert_exporter": "python",
   "pygments_lexer": "ipython3",
   "version": "3.7.4"
  }
 },
 "nbformat": 4,
 "nbformat_minor": 2
}
